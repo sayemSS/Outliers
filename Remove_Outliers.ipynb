{
  "nbformat": 4,
  "nbformat_minor": 0,
  "metadata": {
    "colab": {
      "provenance": []
    },
    "kernelspec": {
      "name": "python3",
      "display_name": "Python 3"
    },
    "language_info": {
      "name": "python"
    }
  },
  "cells": [
    {
      "cell_type": "markdown",
      "source": [
        "**An outlier** is a data point that is significantly different or distant from other points in a dataset. It is unusually high or low compared to the rest of the data.\n",
        "\n",
        "**Why Remove Outliers?**\n",
        "Distortion: Outliers can distort statistical analyses and model training by skewing results.\n",
        "Model Accuracy: They can reduce the accuracy of machine learning models, causing poor predictions or overfitting.\n",
        "Irrelevance: Outliers may represent errors or rare, irrelevant occurrences that do not contribute to meaningful insights."
      ],
      "metadata": {
        "id": "mYmheuUbjAko"
      }
    },
    {
      "cell_type": "markdown",
      "source": [
        "**1. Z-Score Method:**\n",
        "Z-Score is calculated to determine how far a data point is from the mean in terms of standard deviations. If the Z-Score is above a certain threshold (typically 2 or 3), it is considered an outlier."
      ],
      "metadata": {
        "id": "A7m0C4wVjJLP"
      }
    },
    {
      "cell_type": "code",
      "execution_count": 1,
      "metadata": {
        "colab": {
          "base_uri": "https://localhost:8080/"
        },
        "id": "KelhDmPai_Qj",
        "outputId": "fd7ef544-be7c-44a0-e4ae-97a1705a9ad7"
      },
      "outputs": [
        {
          "output_type": "stream",
          "name": "stdout",
          "text": [
            "Data after removing outliers using Z-Score:\n",
            "   Value\n",
            "0     10\n",
            "1     12\n",
            "2     14\n",
            "3     15\n",
            "5     16\n",
            "6     18\n",
            "7     20\n",
            "8     22\n",
            "9     24\n"
          ]
        }
      ],
      "source": [
        "import numpy as np\n",
        "import pandas as pd\n",
        "from scipy import stats\n",
        "\n",
        "# Sample DataFrame\n",
        "data = {'Value': [10, 12, 14, 15, 100, 16, 18, 20, 22, 24]}\n",
        "df = pd.DataFrame(data)\n",
        "\n",
        "# Calculate Z-Score\n",
        "z_scores = np.abs(stats.zscore(df['Value']))\n",
        "\n",
        "# Remove outliers (Z-Score > 2)\n",
        "df_no_outliers = df[z_scores <= 2]\n",
        "\n",
        "print(\"Data after removing outliers using Z-Score:\")\n",
        "print(df_no_outliers)\n"
      ]
    },
    {
      "cell_type": "markdown",
      "source": [
        "**Explanation:**\n",
        "\n",
        "**Z-Score Calculation:** This step computes how far each data point is from the mean in terms of standard deviations.\n",
        "Thresholding: We remove rows where the absolute Z-Score is greater than 2, indicating they are outliers."
      ],
      "metadata": {
        "id": "6T_O1zBhjcKv"
      }
    },
    {
      "cell_type": "markdown",
      "source": [
        "**2. IQR (Interquartile Range) Method:**\n",
        "The IQR method uses the first (Q1) and third (Q3) quartiles of the data to calculate the range of acceptable values. Outliers are considered to be values outside of the range (Q1 - 1.5 * IQR, Q3 + 1.5 * IQR)."
      ],
      "metadata": {
        "id": "UQ_3Unnnjsxf"
      }
    },
    {
      "cell_type": "code",
      "source": [
        "# Calculate IQR\n",
        "Q1 = df['Value'].quantile(0.25)\n",
        "Q3 = df['Value'].quantile(0.75)\n",
        "IQR = Q3 - Q1\n",
        "\n",
        "# Determine the outlier boundaries\n",
        "lower_bound = Q1 - 1.5 * IQR\n",
        "upper_bound = Q3 + 1.5 * IQR\n",
        "\n",
        "# Remove outliers (values outside of IQR range)\n",
        "df_no_outliers_iqr = df[(df['Value'] >= lower_bound) & (df['Value'] <= upper_bound)]\n",
        "\n",
        "print(\"Data after removing outliers using IQR:\")\n",
        "print(df_no_outliers_iqr)\n"
      ],
      "metadata": {
        "colab": {
          "base_uri": "https://localhost:8080/"
        },
        "id": "6Ipb_ATQjvPt",
        "outputId": "dbd8c91f-0678-4f96-ef6a-c8842ed6c6aa"
      },
      "execution_count": 2,
      "outputs": [
        {
          "output_type": "stream",
          "name": "stdout",
          "text": [
            "Data after removing outliers using IQR:\n",
            "   Value\n",
            "0     10\n",
            "1     12\n",
            "2     14\n",
            "3     15\n",
            "5     16\n",
            "6     18\n",
            "7     20\n",
            "8     22\n",
            "9     24\n"
          ]
        }
      ]
    },
    {
      "cell_type": "markdown",
      "source": [
        "**Explanation:**\n",
        "\n",
        "**IQR Calculation:**  The difference between the third and first quartiles (Q3 - Q1).\n",
        "Thresholding: Values below Q1 - 1.5 * IQR or above Q3 + 1.5 * IQR are considered outliers and removed."
      ],
      "metadata": {
        "id": "_5pG84lLj0IG"
      }
    }
  ]
}